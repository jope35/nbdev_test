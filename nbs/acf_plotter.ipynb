{
 "cells": [
  {
   "attachments": {},
   "cell_type": "markdown",
   "metadata": {},
   "source": [
    "# plotter\n",
    "\n",
    "> a familiy of plotting utils\n"
   ]
  },
  {
   "cell_type": "code",
   "execution_count": null,
   "metadata": {},
   "outputs": [],
   "source": [
    "# | default_exp core\n"
   ]
  },
  {
   "cell_type": "code",
   "execution_count": null,
   "metadata": {},
   "outputs": [],
   "source": [
    "# | hide\n",
    "from nbdev.showdoc import *\n",
    "import pandas as pd\n",
    "import numpy as np\n",
    "import matplotlib.pyplot as plt\n",
    "from statsmodels.tsa.stattools import acf, pacf\n"
   ]
  },
  {
   "cell_type": "code",
   "execution_count": null,
   "metadata": {},
   "outputs": [],
   "source": [
    "# | export\n",
    "def plot_acf(df_in, nlags=10, *args, **kwargs):\n",
    "    \"\"\"caclulates and plots auto-correlation function\n",
    "\n",
    "    calculates the auto-correlation function and plots the results,\n",
    "    in a matplotlib figure\n",
    "\n",
    "    Parameters\n",
    "    ----------\n",
    "    df_in : input data structure\n",
    "        input time series, for which the acf will be calculateds\n",
    "    nlags : int, optional\n",
    "        amount of lags to perform the calculation on, by default 10\n",
    "    \"\"\"\n",
    "    acf_values = acf(df_in, nlags=nlags, *args, **kwargs)\n",
    "    plt.stem(acf_values, markerfmt=\"C0\", linefmt=\"gray\")\n",
    "    plt.show()\n"
   ]
  },
  {
   "cell_type": "code",
   "execution_count": null,
   "metadata": {},
   "outputs": [
    {
     "data": {
      "image/png": "[encoded data removed]",
      "text/plain": [
       "<Figure size 640x480 with 1 Axes>"
      ]
     },
     "metadata": {},
     "output_type": "display_data"
    }
   ],
   "source": [
    "# dummy data\n",
    "x = np.linspace(0, 100)\n",
    "\n",
    "# calc and plot the acf for x\n",
    "acf_values = plot_acf(x, nlags=5)\n"
   ]
  },
  {
   "cell_type": "code",
   "execution_count": null,
   "metadata": {},
   "outputs": [],
   "source": [
    "# | export\n",
    "def calc_pacf(df_in, nlags=10, *args, **kwargs):\n",
    "    return pacf(df_in, nlags=nlags, *args, **kwargs)"
   ]
  },
  {
   "cell_type": "code",
   "execution_count": null,
   "metadata": {},
   "outputs": [],
   "source": [
    "x= np.logspace(1,100,300)\n",
    "pacf_values = calc_pacf(x)"
   ]
  },
  {
   "cell_type": "code",
   "execution_count": null,
   "metadata": {},
   "outputs": [
    {
     "data": {
      "text/plain": [
       "array([ 1.0000e+00,  4.6808e-01, -4.0000e-05, -5.0000e-05, -6.0000e-05,\n",
       "       -8.0000e-05, -9.0000e-05, -1.0000e-04, -1.1000e-04, -1.2000e-04,\n",
       "       -1.4000e-04])"
      ]
     },
     "execution_count": null,
     "metadata": {},
     "output_type": "execute_result"
    }
   ],
   "source": [
    "np.round(pacf_values,5)"
   ]
  },
  {
   "cell_type": "code",
   "execution_count": null,
   "metadata": {},
   "outputs": [],
   "source": [
    "assert np.all(np.array([ 1.0000e+00,  4.6808e-01, -4.0000e-05, -5.0000e-05, -6.0000e-05,-8.0000e-05, -9.0000e-05, -1.0000e-04, -1.1000e-04, -1.2000e-04,-1.4000e-04]) == np.round(pacf_values,5))"
   ]
  },
  {
   "cell_type": "code",
   "execution_count": null,
   "metadata": {},
   "outputs": [],
   "source": []
  },
  {
   "cell_type": "code",
   "execution_count": null,
   "metadata": {},
   "outputs": [],
   "source": [
    "# | hide\n",
    "import nbdev\n",
    "\n",
    "nbdev.nbdev_export()\n"
   ]
  }
 ],
 "metadata": {
  "kernelspec": {
   "display_name": "nbdev",
   "language": "python",
   "name": "python3"
  }
 },
 "nbformat": 4,
 "nbformat_minor": 4
}
